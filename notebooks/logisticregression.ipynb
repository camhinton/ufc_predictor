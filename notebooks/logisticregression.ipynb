{
 "cells": [
  {
   "cell_type": "code",
   "execution_count": 1,
   "id": "293440da",
   "metadata": {},
   "outputs": [],
   "source": [
    "import torch\n",
    "import torch.nn as nn\n",
    "import numpy as np\n",
    "import pandas as pd\n",
    "from sklearn.preprocessing import StandardScaler\n",
    "from sklearn.model_selection import train_test_split"
   ]
  },
  {
   "cell_type": "code",
   "execution_count": 2,
   "id": "647ba977",
   "metadata": {},
   "outputs": [],
   "source": [
    "df = pd.read_csv('../data/preprocessed_data.csv')"
   ]
  },
  {
   "cell_type": "code",
   "execution_count": 3,
   "id": "984f172c",
   "metadata": {},
   "outputs": [
    {
     "data": {
      "text/plain": [
       "'no_of_rounds'"
      ]
     },
     "execution_count": 3,
     "metadata": {},
     "output_type": "execute_result"
    }
   ],
   "source": [
    "df.columns[2]"
   ]
  },
  {
   "cell_type": "code",
   "execution_count": 4,
   "id": "c6242a52",
   "metadata": {},
   "outputs": [],
   "source": [
    "def convert_winner_to_int(X):\n",
    "    if X == 'Red':\n",
    "        return 1\n",
    "    else:\n",
    "        return 0"
   ]
  },
  {
   "cell_type": "code",
   "execution_count": 5,
   "id": "b2ba72cd",
   "metadata": {},
   "outputs": [],
   "source": [
    "y = df.pop('Winner').apply(convert_winner_to_int)\n"
   ]
  },
  {
   "cell_type": "code",
   "execution_count": 6,
   "id": "11837e50",
   "metadata": {
    "scrolled": true
   },
   "outputs": [
    {
     "data": {
      "text/plain": [
       "float64    118\n",
       "int64       42\n",
       "dtype: int64"
      ]
     },
     "execution_count": 6,
     "metadata": {},
     "output_type": "execute_result"
    }
   ],
   "source": [
    "df.dtypes.value_counts()"
   ]
  },
  {
   "cell_type": "code",
   "execution_count": 7,
   "id": "4a6d406b",
   "metadata": {},
   "outputs": [
    {
     "data": {
      "text/plain": [
       "1    4436\n",
       "0    2250\n",
       "Name: Winner, dtype: int64"
      ]
     },
     "execution_count": 7,
     "metadata": {},
     "output_type": "execute_result"
    }
   ],
   "source": [
    "y.value_counts()"
   ]
  },
  {
   "cell_type": "code",
   "execution_count": 8,
   "id": "24fe51b0",
   "metadata": {},
   "outputs": [],
   "source": [
    "n_samples, n_features = df.shape"
   ]
  },
  {
   "cell_type": "code",
   "execution_count": 9,
   "id": "e639607a",
   "metadata": {},
   "outputs": [],
   "source": [
    "X_train, X_test, y_train, y_test = train_test_split(df, y, test_size=0.2,\n",
    "                                                   random_state=124)"
   ]
  },
  {
   "cell_type": "code",
   "execution_count": 10,
   "id": "61926280",
   "metadata": {},
   "outputs": [],
   "source": [
    "float_col = X_train.select_dtypes(include=[float]).columns"
   ]
  },
  {
   "cell_type": "code",
   "execution_count": 11,
   "id": "2994e43f",
   "metadata": {},
   "outputs": [],
   "source": [
    "sc = StandardScaler()\n",
    "X_train[float_col] = sc.fit_transform(X_train[float_col])\n",
    "X_test[float_col] = sc.fit_transform(X_test[float_col])"
   ]
  },
  {
   "cell_type": "code",
   "execution_count": 12,
   "id": "5c16341b",
   "metadata": {},
   "outputs": [],
   "source": [
    "X_train = torch.tensor(X_train.values.astype(np.float32))\n",
    "X_test = torch.tensor(X_test.values.astype(np.float32))\n",
    "y_train = torch.tensor(y_train.values.astype(np.float32))\n",
    "y_test = torch.tensor(y_test.values.astype(np.float32))"
   ]
  },
  {
   "cell_type": "code",
   "execution_count": 13,
   "id": "0b7a5171",
   "metadata": {
    "scrolled": true
   },
   "outputs": [],
   "source": [
    "y_train = y_train.view(y_train.shape[0], 1)\n",
    "y_test = y_test.view(y_test.shape[0], 1)"
   ]
  },
  {
   "cell_type": "markdown",
   "id": "71088f71",
   "metadata": {},
   "source": [
    "# Model"
   ]
  },
  {
   "cell_type": "code",
   "execution_count": 14,
   "id": "53c497b1",
   "metadata": {},
   "outputs": [],
   "source": [
    "class LogisticRegression(nn.Module):\n",
    "    \n",
    "    def __init__(self, n_input_features):\n",
    "        super(LogisticRegression, self).__init__()\n",
    "        self.linear = nn.Linear(n_input_features, 1)\n",
    "        \n",
    "    def forward(self, x):\n",
    "        y_predicted = torch.sigmoid(self.linear(x))\n",
    "        return y_predicted"
   ]
  },
  {
   "cell_type": "code",
   "execution_count": 15,
   "id": "8aaf18a7",
   "metadata": {},
   "outputs": [],
   "source": [
    "model = LogisticRegression(n_features)"
   ]
  },
  {
   "cell_type": "markdown",
   "id": "9bed470e",
   "metadata": {},
   "source": [
    "# Loss and Optimizer"
   ]
  },
  {
   "cell_type": "code",
   "execution_count": 16,
   "id": "98ea4621",
   "metadata": {},
   "outputs": [],
   "source": [
    "learning_rate = 0.01\n",
    "criterion = nn.BCELoss()\n",
    "optimizer = torch.optim.SGD(model.parameters(), lr=learning_rate)"
   ]
  },
  {
   "cell_type": "markdown",
   "id": "0b33b4c3",
   "metadata": {},
   "source": [
    "# Training Loop"
   ]
  },
  {
   "cell_type": "code",
   "execution_count": 17,
   "id": "8d91acbd",
   "metadata": {},
   "outputs": [
    {
     "name": "stdout",
     "output_type": "stream",
     "text": [
      "epoch: 10, loss = 0.6849\n",
      "epoch: 20, loss = 0.6590\n",
      "epoch: 30, loss = 0.6452\n",
      "epoch: 40, loss = 0.6367\n",
      "epoch: 50, loss = 0.6307\n",
      "epoch: 60, loss = 0.6263\n",
      "epoch: 70, loss = 0.6227\n",
      "epoch: 80, loss = 0.6199\n",
      "epoch: 90, loss = 0.6174\n",
      "epoch: 100, loss = 0.6153\n"
     ]
    }
   ],
   "source": [
    "num_epochs = 100\n",
    "for epoch in range(num_epochs):\n",
    "    # forward pass and loss\n",
    "    y_predicted = model(X_train)\n",
    "    loss = criterion(y_predicted, y_train)\n",
    "    \n",
    "    # backward pass\n",
    "    loss.backward()\n",
    "    \n",
    "    # updates\n",
    "    optimizer.step()\n",
    "    \n",
    "    # zero gradients\n",
    "    optimizer.zero_grad()\n",
    "    \n",
    "    if (epoch+1) % 10 == 0:\n",
    "        print(f'epoch: {epoch+1}, loss = {loss.item():.4f}')"
   ]
  },
  {
   "cell_type": "markdown",
   "id": "24800329",
   "metadata": {},
   "source": [
    "# Results"
   ]
  },
  {
   "cell_type": "code",
   "execution_count": 18,
   "id": "899be085",
   "metadata": {},
   "outputs": [
    {
     "name": "stdout",
     "output_type": "stream",
     "text": [
      "accuracy = 0.6674\n"
     ]
    }
   ],
   "source": [
    "with torch.no_grad():\n",
    "    y_predicted = model(X_test)\n",
    "    y_predicted_cls = y_predicted.round()\n",
    "    acc = y_predicted_cls.eq(y_test).sum() / float(y_test.shape[0])\n",
    "    print(f'accuracy = {acc:.4f}')"
   ]
  },
  {
   "cell_type": "code",
   "execution_count": 19,
   "id": "53457662",
   "metadata": {
    "scrolled": true
   },
   "outputs": [
    {
     "name": "stdout",
     "output_type": "stream",
     "text": [
      "baseline = 0.6712\n"
     ]
    }
   ],
   "source": [
    "baseline = y_test.sum() / y_test.shape[0]\n",
    "print(f'baseline = {baseline:.4f}')"
   ]
  },
  {
   "cell_type": "markdown",
   "id": "0a32464d",
   "metadata": {},
   "source": [
    "# Prediction"
   ]
  },
  {
   "cell_type": "code",
   "execution_count": 20,
   "id": "a1cd5a40",
   "metadata": {},
   "outputs": [],
   "source": [
    "pred_df = pd.read_csv('../data/prediction_data.csv')"
   ]
  },
  {
   "cell_type": "code",
   "execution_count": 21,
   "id": "30cb31ba",
   "metadata": {
    "scrolled": true
   },
   "outputs": [],
   "source": [
    "pred_df.drop(columns=['index', 'Winner'], inplace=True)"
   ]
  },
  {
   "cell_type": "code",
   "execution_count": 22,
   "id": "f7f5de5c",
   "metadata": {
    "scrolled": true
   },
   "outputs": [
    {
     "data": {
      "text/plain": [
       "title_bout                1\n",
       "no_of_rounds              1\n",
       "R_avg_DISTANCE_att        1\n",
       "R_avg_DISTANCE_landed     1\n",
       "R_avg_opp_DISTANCE_att    1\n",
       "                         ..\n",
       "B_current_lose_streak     1\n",
       "B_longest_win_streak      1\n",
       "B_wins                    1\n",
       "B_losses                  1\n",
       "R_Stance_Switch           1\n",
       "Length: 160, dtype: int64"
      ]
     },
     "execution_count": 22,
     "metadata": {},
     "output_type": "execute_result"
    }
   ],
   "source": [
    "pred_df.columns.value_counts()"
   ]
  },
  {
   "cell_type": "code",
   "execution_count": 23,
   "id": "4223a960",
   "metadata": {},
   "outputs": [
    {
     "data": {
      "text/plain": [
       "B_avg_KD                   1\n",
       "R_avg_opp_TOTAL_STR_att    1\n",
       "R_avg_opp_BODY_att         1\n",
       "R_avg_BODY_landed          1\n",
       "R_avg_BODY_att             1\n",
       "                          ..\n",
       "B_avg_DISTANCE_landed      1\n",
       "B_avg_DISTANCE_att         1\n",
       "B_avg_opp_LEG_landed       1\n",
       "B_avg_opp_LEG_att          1\n",
       "R_age                      1\n",
       "Length: 118, dtype: int64"
      ]
     },
     "execution_count": 23,
     "metadata": {},
     "output_type": "execute_result"
    }
   ],
   "source": [
    "float_col.value_counts()"
   ]
  },
  {
   "cell_type": "code",
   "execution_count": 24,
   "id": "1c0617aa",
   "metadata": {},
   "outputs": [],
   "source": [
    "pred_df[float_col] = sc.fit_transform(pred_df[float_col])\n",
    "pred_df = torch.tensor(pred_df.values.astype(np.float32))"
   ]
  },
  {
   "cell_type": "code",
   "execution_count": 25,
   "id": "2a1b331d",
   "metadata": {
    "scrolled": true
   },
   "outputs": [
    {
     "data": {
      "text/plain": [
       "Index(['title_bout', 'no_of_rounds', 'B_avg_KD', 'B_avg_opp_KD',\n",
       "       'B_avg_SIG_STR_pct', 'B_avg_opp_SIG_STR_pct', 'B_avg_TD_pct',\n",
       "       'B_avg_opp_TD_pct', 'B_avg_SUB_ATT', 'B_avg_opp_SUB_ATT',\n",
       "       ...\n",
       "       'B_Stance_Open Stance', 'B_Stance_Orthodox', 'B_Stance_Sideways',\n",
       "       'B_Stance_Southpaw', 'B_Stance_Switch', 'R_Stance_Open Stance',\n",
       "       'R_Stance_Orthodox', 'R_Stance_Sideways', 'R_Stance_Southpaw',\n",
       "       'R_Stance_Switch'],\n",
       "      dtype='object', length=160)"
      ]
     },
     "execution_count": 25,
     "metadata": {},
     "output_type": "execute_result"
    }
   ],
   "source": [
    "df.columns"
   ]
  },
  {
   "cell_type": "code",
   "execution_count": 26,
   "id": "7e54f9cb",
   "metadata": {},
   "outputs": [
    {
     "data": {
      "text/plain": [
       "tensor([[ 0.0000,  3.0000, -0.4326,  ...,  0.0000,  0.0000,  0.0000],\n",
       "        [ 0.0000,  3.0000, -0.4326,  ...,  0.0000,  0.0000,  0.0000],\n",
       "        [ 0.0000,  3.0000, -0.4326,  ...,  0.0000,  0.0000,  0.0000],\n",
       "        ...,\n",
       "        [ 0.0000,  3.0000, -0.4326,  ...,  0.0000,  0.0000,  0.0000],\n",
       "        [ 0.0000,  3.0000,  3.1061,  ...,  0.0000,  0.0000,  0.0000],\n",
       "        [ 0.0000,  5.0000,  0.0555,  ...,  0.0000,  0.0000,  0.0000]])"
      ]
     },
     "execution_count": 26,
     "metadata": {},
     "output_type": "execute_result"
    }
   ],
   "source": [
    "pred_df"
   ]
  },
  {
   "cell_type": "code",
   "execution_count": 27,
   "id": "a492f1de",
   "metadata": {},
   "outputs": [],
   "source": [
    "with torch.no_grad():\n",
    "    y_predicted = model(pred_df)\n",
    "    y_predicted_cls = y_predicted.round()"
   ]
  },
  {
   "cell_type": "code",
   "execution_count": 28,
   "id": "61b2c6c0",
   "metadata": {},
   "outputs": [
    {
     "data": {
      "text/plain": [
       "tensor([[1.],\n",
       "        [1.],\n",
       "        [1.],\n",
       "        [1.],\n",
       "        [1.],\n",
       "        [1.],\n",
       "        [0.],\n",
       "        [1.],\n",
       "        [1.],\n",
       "        [1.],\n",
       "        [1.]])"
      ]
     },
     "execution_count": 28,
     "metadata": {},
     "output_type": "execute_result"
    }
   ],
   "source": [
    "y_predicted_cls"
   ]
  }
 ],
 "metadata": {
  "kernelspec": {
   "display_name": "Python 3 (ipykernel)",
   "language": "python",
   "name": "python3"
  },
  "language_info": {
   "codemirror_mode": {
    "name": "ipython",
    "version": 3
   },
   "file_extension": ".py",
   "mimetype": "text/x-python",
   "name": "python",
   "nbconvert_exporter": "python",
   "pygments_lexer": "ipython3",
   "version": "3.10.6"
  }
 },
 "nbformat": 4,
 "nbformat_minor": 5
}
