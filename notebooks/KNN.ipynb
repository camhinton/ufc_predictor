{
 "cells": [
  {
   "cell_type": "code",
   "execution_count": 1,
   "id": "293440da",
   "metadata": {},
   "outputs": [],
   "source": [
    "import torch\n",
    "import numpy as np\n",
    "import pandas as pd\n",
    "from sklearn.preprocessing import StandardScaler\n",
    "from sklearn.model_selection import train_test_split"
   ]
  },
  {
   "cell_type": "code",
   "execution_count": 2,
   "id": "647ba977",
   "metadata": {},
   "outputs": [],
   "source": [
    "df = pd.read_csv('../data/preprocessed_data.csv')"
   ]
  },
  {
   "cell_type": "code",
   "execution_count": 3,
   "id": "f4f441c7",
   "metadata": {},
   "outputs": [],
   "source": [
    "def convert_winner_to_int(X):\n",
    "    if X == 'Red':\n",
    "        return 1\n",
    "    else:\n",
    "        return 0"
   ]
  },
  {
   "cell_type": "code",
   "execution_count": 4,
   "id": "b2ba72cd",
   "metadata": {},
   "outputs": [],
   "source": [
    "y = df.pop('Winner').apply(convert_winner_to_int)\n"
   ]
  },
  {
   "cell_type": "code",
   "execution_count": 5,
   "id": "11837e50",
   "metadata": {
    "scrolled": true
   },
   "outputs": [
    {
     "data": {
      "text/plain": [
       "float64    118\n",
       "int64       42\n",
       "dtype: int64"
      ]
     },
     "execution_count": 5,
     "metadata": {},
     "output_type": "execute_result"
    }
   ],
   "source": [
    "df.dtypes.value_counts()"
   ]
  },
  {
   "cell_type": "code",
   "execution_count": 6,
   "id": "4a6d406b",
   "metadata": {},
   "outputs": [
    {
     "data": {
      "text/plain": [
       "1    4436\n",
       "0    2250\n",
       "Name: Winner, dtype: int64"
      ]
     },
     "execution_count": 6,
     "metadata": {},
     "output_type": "execute_result"
    }
   ],
   "source": [
    "y.value_counts()"
   ]
  },
  {
   "cell_type": "code",
   "execution_count": 7,
   "id": "24fe51b0",
   "metadata": {},
   "outputs": [],
   "source": [
    "n_samples, n_features = df.shape"
   ]
  },
  {
   "cell_type": "code",
   "execution_count": 8,
   "id": "e639607a",
   "metadata": {},
   "outputs": [],
   "source": [
    "X_train, X_test, y_train, y_test = train_test_split(df, y, test_size=0.2,\n",
    "                                                   random_state=124)"
   ]
  },
  {
   "cell_type": "code",
   "execution_count": 9,
   "id": "6f5d058d",
   "metadata": {},
   "outputs": [],
   "source": [
    "float_col = X_train.select_dtypes(include=[float]).columns"
   ]
  },
  {
   "cell_type": "code",
   "execution_count": 10,
   "id": "2994e43f",
   "metadata": {},
   "outputs": [],
   "source": [
    "sc = StandardScaler()\n",
    "scaler_cols = []\n",
    "X_train[float_col] = sc.fit_transform(X_train[float_col])\n",
    "X_test[float_col] = sc.fit_transform(X_test[float_col])"
   ]
  },
  {
   "cell_type": "code",
   "execution_count": 11,
   "id": "208e1508",
   "metadata": {},
   "outputs": [],
   "source": [
    "X_train = torch.tensor(X_train.values.astype(np.float32))\n",
    "X_test = torch.tensor(X_test.values.astype(np.float32))\n",
    "y_train = torch.tensor(y_train.values.astype(np.float32))\n",
    "y_test = torch.tensor(y_test.values.astype(np.float32))"
   ]
  },
  {
   "cell_type": "code",
   "execution_count": 12,
   "id": "267e26a2",
   "metadata": {},
   "outputs": [],
   "source": [
    "from sklearn.neighbors import KNeighborsClassifier"
   ]
  },
  {
   "cell_type": "code",
   "execution_count": 15,
   "id": "3ce05614",
   "metadata": {},
   "outputs": [
    {
     "name": "stdout",
     "output_type": "stream",
     "text": [
      "K = 2\n",
      "accuracy: 0.534380\n",
      "K = 3\n",
      "accuracy: 0.610613\n",
      "K = 4\n",
      "accuracy: 0.581465\n",
      "K = 5\n",
      "accuracy: 0.622571\n",
      "K = 6\n",
      "accuracy: 0.606129\n",
      "K = 7\n",
      "accuracy: 0.638266\n",
      "K = 8\n",
      "accuracy: 0.615845\n",
      "K = 9\n",
      "accuracy: 0.644245\n",
      "K = 10\n",
      "accuracy: 0.628550\n",
      "K = 11\n",
      "accuracy: 0.650972\n",
      "K = 12\n",
      "accuracy: 0.639013\n",
      "K = 13\n",
      "accuracy: 0.659193\n",
      "K = 14\n",
      "accuracy: 0.655456\n",
      "K = 15\n",
      "accuracy: 0.663677\n",
      "K = 16\n",
      "accuracy: 0.657698\n",
      "K = 17\n",
      "accuracy: 0.666667\n",
      "K = 18\n",
      "accuracy: 0.665172\n",
      "K = 19\n",
      "accuracy: 0.671898\n"
     ]
    }
   ],
   "source": [
    "for k in range(2, 20):\n",
    "    nn = KNeighborsClassifier(n_neighbors=k)\n",
    "    nn.fit(X_train, y_train)\n",
    "    y_test_pred = nn.predict(X_test)\n",
    "    y_test_pred = torch.tensor(y_test_pred.astype(np.float32))\n",
    "    print('K =', k)\n",
    "    print('accuracy: %f' % (y_test_pred.eq(y_test).sum() / float(y_test.shape[0])))"
   ]
  }
 ],
 "metadata": {
  "kernelspec": {
   "display_name": "Python 3 (ipykernel)",
   "language": "python",
   "name": "python3"
  },
  "language_info": {
   "codemirror_mode": {
    "name": "ipython",
    "version": 3
   },
   "file_extension": ".py",
   "mimetype": "text/x-python",
   "name": "python",
   "nbconvert_exporter": "python",
   "pygments_lexer": "ipython3",
   "version": "3.10.6"
  }
 },
 "nbformat": 4,
 "nbformat_minor": 5
}
